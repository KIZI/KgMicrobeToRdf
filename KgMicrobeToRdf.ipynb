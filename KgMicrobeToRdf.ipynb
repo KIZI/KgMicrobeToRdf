{
 "cells": [
  {
   "cell_type": "markdown",
   "source": [
    "# KG microbe: TSV files into one RDF (turtle) file\n",
    "\n",
    "Source: https://kg-hub.berkeleybop.io/kg-microbe/current/index.html\n",
    "Bioregistry source: https://bioregistry.io/registry/"
   ],
   "metadata": {
    "collapsed": false
   },
   "id": "908fdbab8595fd7e"
  },
  {
   "cell_type": "code",
   "outputs": [],
   "source": [
    "import csv\n",
    "import json\n",
    "import re"
   ],
   "metadata": {
    "collapsed": false
   },
   "id": "initial_id",
   "execution_count": null
  },
  {
   "cell_type": "markdown",
   "source": [
    "Relative paths to the input and output files"
   ],
   "metadata": {
    "collapsed": false
   },
   "id": "7744c68c970a1b11"
  },
  {
   "cell_type": "code",
   "outputs": [],
   "source": [
    "edgesPath = \"input/merged-kg_edges.tsv\"\n",
    "nodesPath = \"input/merged-kg_nodes.tsv\"\n",
    "bioregistryPath = \"input/registry.json\"\n",
    "outputPath = \"output/kg-microbe.ttl\""
   ],
   "metadata": {
    "collapsed": false
   },
   "id": "c211eed23b6be7ac",
   "execution_count": null
  },
  {
   "cell_type": "markdown",
   "source": [
    "All used prefixes are defined here"
   ],
   "metadata": {
    "collapsed": false
   },
   "id": "6da73ad371e72ed5"
  },
  {
   "cell_type": "code",
   "outputs": [],
   "source": [
    "prefixes = {\n",
    "    \"biolink\": \"https://w3id.org/biolink/vocab/\",\n",
    "    \"rdfs\": \"http://www.w3.org/2000/01/rdf-schema#\",\n",
    "    \"rdf\": \"http://www.w3.org/1999/02/22-rdf-syntax-ns#\",\n",
    "    \"owl\": \"http://www.w3.org/2002/07/owl#\",\n",
    "    \"dc\": \"http://purl.org/dc/terms/\",\n",
    "    \"obo\": \"http://purl.obolibrary.org/obo/\",\n",
    "    \"oio\": \"http://www.geneontology.org/formats/oboInOwl#\",\n",
    "    \"wd\": \"https://www.wikidata.org/wiki/\",\n",
    "    \"bioregistry\": \"https://bioregistry.io/\",\n",
    "    \"medi\": \"https://mediadive.dsmz.de/ingredients/\",\n",
    "    \"meds\": \"https://mediadive.dsmz.de/solutions/\",\n",
    "    \"medm\": \"https://mediadive.dsmz.de/medium/\"\n",
    "}"
   ],
   "metadata": {
    "collapsed": false
   },
   "id": "40695381a58262e8",
   "execution_count": null
  },
  {
   "cell_type": "markdown",
   "source": [
    "Load prefixes from `registry.json` which should be downloaded from https://bioregistry.io/registry/"
   ],
   "metadata": {
    "collapsed": false
   },
   "id": "8b5308d218444f60"
  },
  {
   "cell_type": "code",
   "outputs": [],
   "source": [
    "bioregistry_prefixes = {}\n",
    "f = open(bioregistryPath)\n",
    "data = json.load(f)\n",
    "for entity in data.values():\n",
    "    bioregistry_prefixes[entity[\"prefix\"]] = {\"name\": entity[\"name\"], \"uri_format\": entity[\"uri_format\"]}\n",
    "f.close()\n",
    "del data"
   ],
   "metadata": {
    "collapsed": false
   },
   "id": "21b9a54166d22911",
   "execution_count": null
  },
  {
   "cell_type": "markdown",
   "source": [
    "Here we start to write prefixes into the output file"
   ],
   "metadata": {
    "collapsed": false
   },
   "id": "df2e0d1fbdeef155"
  },
  {
   "cell_type": "code",
   "outputs": [],
   "source": [
    "outputStream = open(outputPath, \"w\")\n",
    "\n",
    "for p, ns in prefixes.items():\n",
    "    outputStream.write(f\"@prefix {p}: <{ns}> .\\n\")\n",
    "\n",
    "outputStream.write(\"\\n\")"
   ],
   "metadata": {
    "collapsed": false
   },
   "id": "2f3a25929039e9f2",
   "execution_count": null
  },
  {
   "cell_type": "markdown",
   "source": [
    "Helpers for saving triples and uri extraction. All uris are resolved from the `iri` columns and then from https://bioregistry.io/registry/ if iri is unknown. All unresolved uris are replaced with the following urn format: `<urn:unknown:id>`."
   ],
   "metadata": {
    "collapsed": false
   },
   "id": "249dadda604339b8"
  },
  {
   "cell_type": "code",
   "outputs": [],
   "source": [
    "def add_triple(s: str, p: str, o: str):\n",
    "    outputStream.write(f\"{s} {p} {o} .\\n\")\n",
    "    # print(f\"{s} {p} {o} .\")\n",
    "\n",
    "def add_label(s: str, label: str):\n",
    "    add_triple(s, \"rdfs:label\", json.dumps(label))\n",
    "\n",
    "def add_type(s: str, t: str):\n",
    "    add_triple(s, \"rdf:type\", t)\n",
    "\n",
    "def add_synonym(s: str, syn: str):\n",
    "    add_triple(s, \"biolink:synonym\", json.dumps(syn))\n",
    "    \n",
    "def add_reference(s: str, ref: str):\n",
    "    add_triple(s, \"dc:identifier\", json.dumps(ref))\n",
    "\n",
    "def extract_uri(id: str):\n",
    "    uri_parts = id.split(\":\", 1)\n",
    "    if len(uri_parts) == 1:\n",
    "        return f\"urn:unknown:{id}\"\n",
    "    elif len(uri_parts) > 1:\n",
    "        prefix = uri_parts[0].lower()\n",
    "        def_prefix = bioregistry_prefixes.get(prefix)\n",
    "        if def_prefix is None:\n",
    "            return f\"urn:unknown:{id}\"\n",
    "        else:\n",
    "            uf = def_prefix[\"uri_format\"]  # type: str\n",
    "            if uf is None or \"$1\" not in uf:\n",
    "                return f\"https://bioregistry.io/{prefix}:{uri_parts[1]}\"\n",
    "            else:\n",
    "                return uf.replace(\"$1\", uri_parts[1])\n",
    "    return None"
   ],
   "metadata": {
    "collapsed": false
   },
   "id": "1907f3f82dd989c8",
   "execution_count": null
  },
  {
   "cell_type": "markdown",
   "source": [
    "First, we add user-defined triples."
   ],
   "metadata": {
    "collapsed": false
   },
   "id": "ae718d7ce22487ed"
  },
  {
   "cell_type": "code",
   "outputs": [],
   "source": [
    "add_triple(\"biolink:synonym\", \"rdfs:label\", \"\\\"Synonym\\\"\")\n",
    "add_triple(\"dc:identifier\", \"rdfs:label\", \"\\\"Reference\\\"\")"
   ],
   "metadata": {
    "collapsed": false
   },
   "id": "c232af32a739622a",
   "execution_count": null
  },
  {
   "cell_type": "markdown",
   "source": [
    "## Nodes extraction into the output file\n",
    "\n",
    "It includes:\n",
    "- labels `rdfs:label`\n",
    "- types `rdf:type` as `biolink:<type>`\n",
    "- synonyms `biolink:synonym`\n",
    "- reference `dc:identifier` with the entity uri."
   ],
   "metadata": {
    "collapsed": false
   },
   "id": "5777f3fc37dddd94"
  },
  {
   "cell_type": "code",
   "outputs": [],
   "source": [
    "i = 0\n",
    "f_in = open(nodesPath, newline=\"\")\n",
    "reader = csv.reader(f_in, delimiter=\"\\t\")\n",
    "rowsIt = iter(reader)\n",
    "header = {k: v for v, k in enumerate(next(rowsIt))}\n",
    "id_to_uri = {}\n",
    "for row in rowsIt:\n",
    "    i += 1\n",
    "    if i % 50000 == 0: print(f\"processed lines: {i}\")\n",
    "    uri = row[header[\"iri\"]].split(\"|\")[0]\n",
    "    if not uri:\n",
    "        uri = extract_uri(row[header[\"id\"]])\n",
    "    if not uri: continue\n",
    "    puri = None\n",
    "    for p, ns in prefixes.items():\n",
    "        if uri.startswith(ns):\n",
    "            puri = f\"{p}:{uri.lstrip(ns)}\"\n",
    "            break\n",
    "    s = puri if puri else f\"<{uri}>\"\n",
    "    id_to_uri[row[header[\"id\"]]] = s\n",
    "    n = str(row[header[\"name\"]]).strip()\n",
    "    if len(n) > 0: add_label(s, n)\n",
    "    if not uri.startswith(\"urn:unknown:\"):\n",
    "        add_reference(s, uri)\n",
    "    for syn in row[header[\"synonym\"]].split(\"|\"):\n",
    "        syn = syn.strip()\n",
    "        if len(syn) > 0 and syn != n: add_synonym(s, syn)\n",
    "    for t in str(row[header['category']]).split(\"|\"):\n",
    "        t = t.strip()\n",
    "        if len(t) > 0: add_type(s, t)\n",
    "print(f\"(Done) processed lines: {i}\")\n",
    "f_in.close()"
   ],
   "metadata": {
    "collapsed": false
   },
   "id": "f98cfc511df8d907",
   "execution_count": null
  },
  {
   "cell_type": "markdown",
   "source": [
    "## Edges extraction into the output file\n",
    "\n",
    "Triples with unknown uris with unknown prefix are skipped."
   ],
   "metadata": {
    "collapsed": false
   },
   "id": "ee0cd0b431a34974"
  },
  {
   "cell_type": "code",
   "outputs": [],
   "source": [
    "i = 0\n",
    "f_in = open(edgesPath, newline=\"\")\n",
    "reader = csv.reader(f_in, delimiter=\"\\t\")\n",
    "rowsIt = iter(reader)\n",
    "header = {k: v for v, k in enumerate(next(rowsIt))}\n",
    "unknown_predicates = set()\n",
    "used_predicates = set()\n",
    "for row in rowsIt:\n",
    "    i += 1\n",
    "    if i % 50000 == 0: print(f\"processed lines: {i}\")\n",
    "    s = id_to_uri.get(row[header[\"subject\"]])\n",
    "    o = id_to_uri.get(row[header[\"object\"]])\n",
    "    p = row[header[\"predicate\"]]\n",
    "    p_parts = p.split(\":\", 1)\n",
    "    if s and o and len(p_parts) == 2 and p_parts[0] in prefixes:\n",
    "        used_predicates.add(p)\n",
    "        add_triple(s, p, o)\n",
    "    else:\n",
    "        unknown_predicates.add(p)\n",
    "print(f\"(Done) processed lines: {i}\")\n",
    "f_in.close()\n",
    "if len(unknown_predicates) > 0:\n",
    "    print(f\"Unknown predicates: {unknown_predicates}\")"
   ],
   "metadata": {
    "collapsed": false
   },
   "id": "7e1b25ca7a4cabf6",
   "execution_count": null
  },
  {
   "cell_type": "markdown",
   "source": [
    "Add labels of all used predicates into the output file."
   ],
   "metadata": {
    "collapsed": false
   },
   "id": "11a21e85f8678398"
  },
  {
   "cell_type": "code",
   "outputs": [],
   "source": [
    "for p in used_predicates:\n",
    "    add_label(p, re.sub(\"([A-Z])\", r\"_\\1\", p.split(\":\", 1)[1]).replace(\"_\", \" \").lower().strip())"
   ],
   "metadata": {
    "collapsed": false
   },
   "id": "1431102692939679",
   "execution_count": null
  },
  {
   "cell_type": "markdown",
   "source": [
    "Close the output file writing."
   ],
   "metadata": {
    "collapsed": false
   },
   "id": "629fb4fd9780034b"
  },
  {
   "cell_type": "code",
   "outputs": [],
   "source": [
    "outputStream.close()"
   ],
   "metadata": {
    "collapsed": false
   },
   "id": "985088c949eb2211",
   "execution_count": null
  }
 ],
 "metadata": {
  "kernelspec": {
   "display_name": "Python 3",
   "language": "python",
   "name": "python3"
  },
  "language_info": {
   "codemirror_mode": {
    "name": "ipython",
    "version": 2
   },
   "file_extension": ".py",
   "mimetype": "text/x-python",
   "name": "python",
   "nbconvert_exporter": "python",
   "pygments_lexer": "ipython2",
   "version": "2.7.6"
  }
 },
 "nbformat": 4,
 "nbformat_minor": 5
}
