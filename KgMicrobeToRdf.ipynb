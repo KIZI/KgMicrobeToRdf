{
 "cells": [
  {
   "cell_type": "code",
   "outputs": [],
   "source": [
    "import csv\n",
    "import json"
   ],
   "metadata": {
    "collapsed": false
   },
   "id": "initial_id",
   "execution_count": null
  },
  {
   "cell_type": "code",
   "outputs": [],
   "source": [
    "edgesPath = \"input/merged-kg_edges.tsv\"\n",
    "nodesPath = \"input/merged-kg_nodes.tsv\"\n",
    "outputPath = \"output/kg-microbe.ttl\"\n",
    "chunkSize = 100000"
   ],
   "metadata": {
    "collapsed": false
   },
   "id": "c211eed23b6be7ac",
   "execution_count": null
  },
  {
   "cell_type": "code",
   "outputs": [],
   "source": [
    "prefixes = {\n",
    "    \"biolink\": \"https://w3id.org/biolink/vocab/\",\n",
    "    \"rdfs\": \"http://www.w3.org/2000/01/rdf-schema#\",\n",
    "    \"rdf\": \"http://www.w3.org/1999/02/22-rdf-syntax-ns#\",\n",
    "    \"owl\": \"http://www.w3.org/2002/07/owl#\",\n",
    "    \"dc\": \"http://purl.org/dc/terms/\",\n",
    "    \"obo\": \"http://purl.obolibrary.org/obo/\"\n",
    "}"
   ],
   "metadata": {
    "collapsed": false
   },
   "id": "40695381a58262e8",
   "execution_count": null
  },
  {
   "cell_type": "code",
   "outputs": [],
   "source": [
    "outputStream = open(outputPath, \"w\")\n",
    "\n",
    "for p, ns in prefixes.items():\n",
    "    outputStream.write(f\"@prefix {p}: <{ns}> .\\n\")\n",
    "\n",
    "outputStream.write(\"\\n\")"
   ],
   "metadata": {
    "collapsed": false
   },
   "id": "2f3a25929039e9f2",
   "execution_count": null
  },
  {
   "cell_type": "code",
   "outputs": [],
   "source": [
    "def add_triple(s: str, p: str, o: str):\n",
    "    outputStream.write(f\"{s} {p} {o} .\\n\")\n",
    "    # print(f\"{s} {p} {o} .\")\n",
    "\n",
    "def add_label(s: str, label: str):\n",
    "    add_triple(s, \"rdfs:label\", json.dumps(label))\n",
    "\n",
    "\n",
    "def add_type(s: str, t: str):\n",
    "    add_triple(s, \"rdf:type\", t)\n",
    "\n",
    "\n",
    "def add_synonym(s: str, syn: str):\n",
    "    add_triple(s, \"biolink:synonym\", json.dumps(syn))\n",
    "\n",
    "\n",
    "def add_same_as(s: str, s2: str):\n",
    "    add_triple(s, \"owl:sameAs\", s2)"
   ],
   "metadata": {
    "collapsed": false
   },
   "id": "1907f3f82dd989c8",
   "execution_count": null
  },
  {
   "cell_type": "code",
   "outputs": [],
   "source": [
    "add_triple(\"biolink:synonym\", \"rdfs:label\", \"\\\"Synonym\\\"\")"
   ],
   "metadata": {
    "collapsed": false
   },
   "id": "c232af32a739622a",
   "execution_count": null
  },
  {
   "cell_type": "code",
   "outputs": [],
   "source": [
    "i = 0\n",
    "f_in = open(nodesPath, newline=\"\")\n",
    "reader = csv.reader(f_in, delimiter=\"\\t\")\n",
    "rowsIt = iter(reader)\n",
    "header = {k: v for v, k in enumerate(next(rowsIt))}\n",
    "for row in rowsIt:\n",
    "    i += 1\n",
    "    if i % 50000 == 0: print(f\"processed lines: {i}\")\n",
    "    idSet = set(filter(lambda x: len(x) > 0, map(lambda x: str(x).lstrip(prefixes[\"obo\"]), str(row[header[\"iri\"]]).split(\"|\"))))\n",
    "    if len(idSet) == 0: continue\n",
    "    s = f\"obo:{idSet.pop()}\"\n",
    "    for sameAs in idSet:\n",
    "        add_same_as(s, f\"obo:{sameAs}\")\n",
    "    n = str(row[header[\"name\"]]).strip()\n",
    "    if len(n) > 0: add_label(s, n)\n",
    "    for syn in row[header[\"synonym\"]].split(\"|\"):\n",
    "        syn = syn.strip()\n",
    "        if len(syn) > 0: add_synonym(s, syn)\n",
    "    for t in str(row[header['category']]).split(\"|\"):\n",
    "        t = t.strip()\n",
    "        if len(t) > 0: add_type(s, t)\n",
    "print(f\"(Done) processed lines: {i}\")\n",
    "f_in.close()"
   ],
   "metadata": {
    "collapsed": false
   },
   "id": "f98cfc511df8d907",
   "execution_count": null
  },
  {
   "cell_type": "code",
   "outputs": [],
   "source": [
    "outputStream.close()"
   ],
   "metadata": {
    "collapsed": false
   },
   "id": "985088c949eb2211",
   "execution_count": null
  },
  {
   "cell_type": "code",
   "outputs": [],
   "source": [],
   "metadata": {
    "collapsed": false
   },
   "id": "70893c06d15df4fc",
   "execution_count": null
  }
 ],
 "metadata": {
  "kernelspec": {
   "display_name": "Python 3",
   "language": "python",
   "name": "python3"
  },
  "language_info": {
   "codemirror_mode": {
    "name": "ipython",
    "version": 2
   },
   "file_extension": ".py",
   "mimetype": "text/x-python",
   "name": "python",
   "nbconvert_exporter": "python",
   "pygments_lexer": "ipython2",
   "version": "2.7.6"
  }
 },
 "nbformat": 4,
 "nbformat_minor": 5
}
